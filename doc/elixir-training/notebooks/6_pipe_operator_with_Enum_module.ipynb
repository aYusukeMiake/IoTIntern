{
 "cells": [
  {
   "cell_type": "markdown",
   "id": "ambient-boxing",
   "metadata": {},
   "source": [
    "# pipe演算子とEnumモジュール\n",
    "\n",
    "Elixirの関数型言語という特徴を活かす演算子として, pipe演算子`|>`がある。\n",
    "\n",
    "これは複数の関数を連結し, 一連のパイプラインにデータを流しこむようにして大きな処理を実現するための演算子である。\n",
    "\n",
    "pipe演算子に関連して, Listのような列挙可能(Enumerable)な値の処理に頻繁に用いられるのが`Enum`モジュールである。\n",
    "\n",
    "`Enum`モジュールは「反復処理」や「集約」を抽象化する高階関数を提供しており, 処理の本質を関数で宣言的に表現することを可能にしている。"
   ]
  },
  {
   "cell_type": "markdown",
   "id": "regional-surface",
   "metadata": {},
   "source": [
    "### pipe演算子\n",
    "\n",
    "ある数に対し, 次の処理を行う。\n",
    "\n",
    "1. 10を足す\n",
    "2. 2倍する\n",
    "3. 任意の数を足す\n",
    "\n",
    "それぞれのステップを個別の関数として表現し, 組合せて期待される結果を得ることにする。"
   ]
  },
  {
   "cell_type": "code",
   "execution_count": null,
   "id": "changing-indonesia",
   "metadata": {},
   "outputs": [],
   "source": [
    "# 以下の関数を順番に適用する\n",
    "add10  = fn x -> x + 10 end\n",
    "double = fn x -> x * 2 end\n",
    "add    = fn x, y -> x + y end"
   ]
  },
  {
   "cell_type": "code",
   "execution_count": null,
   "id": "infectious-moisture",
   "metadata": {},
   "outputs": [],
   "source": [
    "# 愚直に書くと返り値を毎回変数に束縛するか, 次のように関数をネストして適用する必要がある\n",
    "add.(double.(add10.(1)), 100)"
   ]
  },
  {
   "cell_type": "markdown",
   "id": "nuclear-discount",
   "metadata": {},
   "source": [
    "pipe演算子を使うと, 前の関数の返り値が次の関数の第一引数として自動的に渡される。\n",
    "\n",
    "結果として, 関数を適用順に直列に書くことができる。"
   ]
  },
  {
   "cell_type": "code",
   "execution_count": null,
   "id": "accompanied-certificate",
   "metadata": {},
   "outputs": [],
   "source": [
    "1 |> add10.() |> double.() |> add.(100)"
   ]
  },
  {
   "cell_type": "markdown",
   "id": "upper-eating",
   "metadata": {},
   "source": [
    "`case`も関数なのでpipe演算子でつなぐことができる。"
   ]
  },
  {
   "cell_type": "code",
   "execution_count": null,
   "id": "surprising-airplane",
   "metadata": {},
   "outputs": [],
   "source": [
    "File.read(\"resources/2/hello.txt\")\n",
    "|> case do\n",
    "  {:ok, content} -> content\n",
    "  {:error, msg}  -> msg\n",
    "end\n",
    "|> IO.puts()"
   ]
  },
  {
   "cell_type": "markdown",
   "id": "interim-point",
   "metadata": {},
   "source": [
    "### Enumモジュール\n",
    "\n",
    "詳細は[公式ドキュメント](https://hexdocs.pm/elixir/Enum.html)を参照のこと。\n",
    "\n",
    "ここではいくつかの例を紹介するにとどめる。"
   ]
  },
  {
   "cell_type": "markdown",
   "id": "atmospheric-serum",
   "metadata": {},
   "source": [
    "#### Enum.map/2\n",
    "\n",
    "写像を行う関数である。\n",
    "\n",
    "第一引数にEnumerable, 第二引数に, 1つの値をとって何らかの値を返す関数を取る。"
   ]
  },
  {
   "cell_type": "code",
   "execution_count": null,
   "id": "ranging-emission",
   "metadata": {},
   "outputs": [],
   "source": [
    "# 与えられた複数の整数に対し, それぞれ2倍する\n",
    "# 関心は「整数を2倍すること」であり, どのように繰り返し処理を行うかは本質ではない\n",
    " \n",
    "IO.inspect Enum.map([0, 1, 2, 3, 4], fn x -> x * 2 end)"
   ]
  },
  {
   "cell_type": "code",
   "execution_count": null,
   "id": "empirical-image",
   "metadata": {},
   "outputs": [],
   "source": [
    "collection = [\n",
    "  %{x: 0, y: 1},\n",
    "  %{x: 2, y: 1},\n",
    "  %{x: 4, y: 2},\n",
    "]\n",
    "\n",
    "IO.inspect Enum.map(collection, fn map -> map.x end)"
   ]
  },
  {
   "cell_type": "code",
   "execution_count": null,
   "id": "secret-sport",
   "metadata": {},
   "outputs": [],
   "source": [
    "# もちろんpipe演算子で処理をつなげることができる\n",
    "\n",
    "[0, 1, 2, 3, 4]\n",
    "|> Enum.map(fn x -> x * 2 end)\n",
    "|> Enum.map(fn x -> x + 1 end)\n",
    "|> Enum.map(fn x -> \"number #{x}\" end)\n",
    "|> IO.inspect()"
   ]
  },
  {
   "cell_type": "markdown",
   "id": "joint-arthritis",
   "metadata": {},
   "source": [
    "#### Enum.filter/2\n",
    "\n",
    "第一引数にEnumerable, 第二引数に, 1つの値をとってbooleanを返す関数を取る。\n",
    "\n",
    "第二引数の関数の返り値が`true`となる要素だけを残す。"
   ]
  },
  {
   "cell_type": "code",
   "execution_count": null,
   "id": "aware-canadian",
   "metadata": {},
   "outputs": [],
   "source": [
    "is_even? = &(Integer.mod(&1, 2) == 0)\n",
    "\n",
    "[0, 1, 2, 3, 4]\n",
    "|> Enum.filter(is_even?)\n",
    "|> IO.inspect()"
   ]
  }
 ],
 "metadata": {
  "kernelspec": {
   "display_name": "Elixir",
   "language": "Elixir",
   "name": "ielixir"
  },
  "language_info": {
   "codemirror_mode": "elixir",
   "file_extension": "ex",
   "mimetype": "text/x-elixir",
   "name": "elixir",
   "nbconvert_exporter": "",
   "pygments_lexer": "elixir",
   "version": "1.11.2"
  }
 },
 "nbformat": 4,
 "nbformat_minor": 5
}
