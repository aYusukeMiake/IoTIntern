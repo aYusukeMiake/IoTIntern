{
 "cells": [
  {
   "cell_type": "markdown",
   "id": "mental-explorer",
   "metadata": {},
   "source": [
    "# はじめに\n",
    "\n",
    "一連のnotebookはElixirを紹介するためのドキュメントです。\n",
    "\n",
    "- 短時間（2時間半程度）で書けるようになることを目的としています\n",
    "  - 必要最低限を残してかなりの部分が省略されています\n",
    "  - より良いコードが書きたくなったり，細かい情報が必要になったら後述のリンク先を参照してください\n",
    "  - 正確性に欠けたり誤った説明をあえてしている箇所があります\n",
    "- 誤字脱字に気付いたらPR頂けるとありがたいです\n",
    "\n",
    "notebookを作るにあたり, 下記のドキュメントを参考にしています。\n",
    "- https://tentakano.github.io/ElixirTutorial/"
   ]
  },
  {
   "cell_type": "markdown",
   "id": "aggressive-chuck",
   "metadata": {},
   "source": [
    "## Jupyter notebookについて\n",
    "\n",
    "Jupyter notebookでは, markdown, そしてコードとコードの実行結果を記録することができます。\n",
    "Notebookは\"cell\"と呼ばれる単位で区切って記述します。\n",
    "\n",
    "- Markdown cellとCode cellをよく使います\n",
    "- このセクションもcell(Markdown cell)です\n",
    "  - このcellをクリックして, 上のメニューバーのモードを見てください\n",
    "- cellをダブルクリックするとeditモードに切り替わります\n",
    "- `Shift` + `Enter`でmarkdown cellをレンダリング, またはcode cellを実行します\n",
    "- 試してみましょう"
   ]
  },
  {
   "cell_type": "code",
   "execution_count": null,
   "id": "dedicated-wichita",
   "metadata": {},
   "outputs": [],
   "source": [
    "# ここはCode cellです\n",
    "IO.puts \"Hello IElixir!\""
   ]
  },
  {
   "cell_type": "markdown",
   "id": "hourly-environment",
   "metadata": {},
   "source": [
    "なお, ここでのElixir学習はJupyter notebookを使用するのですが, \n",
    "ターミナル上で`iex`というコマンドを実行することでもElixirコードを対話的に実行可能です。\n",
    "\n",
    "`iex`も試してみてください。\n",
    "\n",
    "```sh\n",
    "$ iex\n",
    "Erlang/OTP 23 [erts-11.0.3] [source] [64-bit] [smp:16:16] [ds:16:16:10] [async-threads:1] [hipe]\n",
    "\n",
    "Interactive Elixir (1.11.2) - press Ctrl+C to exit (type h() ENTER for help)\n",
    "iex(1)> \"Hello Elixir!\"\n",
    "\"Hello Elixir!\"\n",
    "```"
   ]
  },
  {
   "cell_type": "markdown",
   "id": "hidden-clinic",
   "metadata": {},
   "source": [
    "## もっと詳しく・よりよいコードを書くために\n",
    "\n",
    "- [公式ドキュメント](https://hexdocs.pm/elixir/Kernel.html)\n",
    "  - ビルトインの関数・マクロについてよく知ることは簡潔かつバグが少ないコードを書くために必要です\n",
    "  - 多分あるだろうと思った関数はたいがい実装されているものです．私もよくにらめっこしながらコーディングしています\n",
    "- [Elixir School](https://elixirschool.com/ja/)\n",
    "  - Elixirが体系立てて解説されています．ピュアなElixirだけでなく，頻出ライブラリについても解説されています\n",
    "- [プログラミングElixir](https://www.amazon.co.jp/%E3%83%97%E3%83%AD%E3%82%B0%E3%83%A9%E3%83%9F%E3%83%B3%E3%82%B0Elixir-%E7%AC%AC2%E7%89%88-Dave-Thomas-ebook/dp/B08QHLL16R/ref=pd_sbs_1/357-5605516-8971806?pd_rd_w=A2svO&pf_rd_p=dd0e5738-5781-4e32-b73e-998b011dad01&pf_rd_r=B74T8E2QS0VQ19NMPA31&pd_rd_r=63709463-bc95-4a3f-be61-11695e832432&pd_rd_wg=FlMpS&pd_rd_i=B08QHLL16R&psc=1)\n",
    "  - 書籍で体系立てて学びたければこちら\n",
    "  - かなり網羅的に書かれていますが，例題の解答がなく，これだけで書けるようになるかと聞かれると疑問・・・"
   ]
  }
 ],
 "metadata": {
  "kernelspec": {
   "display_name": "Elixir",
   "language": "Elixir",
   "name": "ielixir"
  },
  "language_info": {
   "codemirror_mode": "elixir",
   "file_extension": "ex",
   "mimetype": "text/x-elixir",
   "name": "elixir",
   "nbconvert_exporter": "",
   "pygments_lexer": "elixir",
   "version": "1.11.2"
  }
 },
 "nbformat": 4,
 "nbformat_minor": 5
}
