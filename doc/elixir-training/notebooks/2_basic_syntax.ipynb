{
 "cells": [
  {
   "cell_type": "markdown",
   "id": "hundred-darkness",
   "metadata": {},
   "source": [
    "# 基本的な文法"
   ]
  },
  {
   "cell_type": "markdown",
   "id": "right-killer",
   "metadata": {},
   "source": [
    "## 基本的な値\n",
    "\n",
    "Elixirは動的型付け言語ですが, 内部的には型が存在する。\n",
    "\n",
    "[基本的な型](https://elixir-lang.org/getting-started/basic-types.html)は以下。\n",
    "\n",
    "- Integer\n",
    "- Float\n",
    "- Boolean\n",
    "- String\n",
    "- List\n",
    "- Tuple\n",
    "- Atom\n",
    "- Anonymous function\n",
    "- Port\n",
    "- Reference\n",
    "- PID"
   ]
  },
  {
   "cell_type": "markdown",
   "id": "artistic-terror",
   "metadata": {},
   "source": [
    "### 数値"
   ]
  },
  {
   "cell_type": "code",
   "execution_count": null,
   "id": "appointed-columbus",
   "metadata": {},
   "outputs": [],
   "source": [
    "# integer\n",
    "IO.inspect 1\n",
    "IO.inspect 0x01 # 16進数"
   ]
  },
  {
   "cell_type": "code",
   "execution_count": null,
   "id": "precise-commonwealth",
   "metadata": {},
   "outputs": [],
   "source": [
    "# float\n",
    "IO.inspect 1.0\n",
    "IO.inspect 1.0e+3"
   ]
  },
  {
   "cell_type": "markdown",
   "id": "sublime-hollywood",
   "metadata": {},
   "source": [
    "### boolean"
   ]
  },
  {
   "cell_type": "code",
   "execution_count": null,
   "id": "designed-charm",
   "metadata": {},
   "outputs": [],
   "source": [
    "# boolean\n",
    "IO.inspect true\n",
    "IO.inspect false"
   ]
  },
  {
   "cell_type": "markdown",
   "id": "rotary-stevens",
   "metadata": {},
   "source": [
    "### Atom\n",
    "\n",
    "- `:`から始まる名前付きの値で, 実体がErlangVM上で**ただ1つ**\n",
    "  - コンパイル時(コーディング時)に定まっている定数を表現するために使われることが多い\n",
    "  - 実体がただ1つなので, 同じAtomをプログラム内の複数箇所で使っても値はコピーされず, 既存のAtomに対する参照のみが増える\n",
    "- 一度生成されたAtomはVMから**消えない**(Garbage Collect されない)\n",
    "  - メモリを使い尽くすことにつながる恐れがあるので, 動的にAtomを生成すべきではない\n",
    "  - コーディング時にAtomの使用をためらう必要はない"
   ]
  },
  {
   "cell_type": "code",
   "execution_count": null,
   "id": "needed-landing",
   "metadata": {},
   "outputs": [],
   "source": [
    "IO.inspect :atom\n",
    "IO.puts :atom\n",
    "\n",
    "IO.inspect :atom == :atom\n",
    "IO.inspect :atom != :another\n",
    "\n",
    "# booleanのtrueやfalse, 値がないことを示すnilも実際にはatomとして定義されています\n",
    "IO.inspect true == :true\n",
    "IO.inspect nil == :nil"
   ]
  },
  {
   "cell_type": "markdown",
   "id": "gorgeous-magnitude",
   "metadata": {},
   "source": [
    "### 文字列\n",
    "\n",
    "- ダブルクォーテーション`\"`を使う場合 => 文字列\n",
    "- シングルクォーテーション`'`を使う場合 => 文字のリスト\n",
    "\n",
    "基本的にはダブルクォーテーションを使うのでいい。"
   ]
  },
  {
   "cell_type": "code",
   "execution_count": null,
   "id": "demographic-wilderness",
   "metadata": {},
   "outputs": [],
   "source": [
    "# string\n",
    "IO.inspect \"abcABC\"\n",
    "IO.inspect \"マルチバイト文字列\""
   ]
  },
  {
   "cell_type": "markdown",
   "id": "complex-prediction",
   "metadata": {},
   "source": [
    "文字列の中で`#{}`を使うと、式を埋め込むことができる。\n",
    "\n",
    "`#{}`の中身は評価されて文字列に変換される。"
   ]
  },
  {
   "cell_type": "code",
   "execution_count": null,
   "id": "latin-defense",
   "metadata": {},
   "outputs": [],
   "source": [
    "target = \"Alice\"\n",
    "IO.inspect \"Hello #{target}.\"\n",
    "\n",
    "IO.inspect \"Answer of everything is #{1 + 2 + 3 + 5 + 7 + 11 + 13}!\""
   ]
  },
  {
   "cell_type": "markdown",
   "id": "upper-going",
   "metadata": {},
   "source": [
    "### List (linked list)\n",
    "\n",
    "- 値が0個以上あることを表現する\n",
    "- 要素の型はどんな組み合わせでもいい\n",
    "- 要素数が動的に増減する場合に使用する\n",
    "- 内部実装はlinked list"
   ]
  },
  {
   "cell_type": "code",
   "execution_count": null,
   "id": "charming-complement",
   "metadata": {},
   "outputs": [],
   "source": [
    "# list\n",
    "\n",
    "IO.inspect [0, \"a\", true, [0, 1, 2]]\n",
    "\n",
    "l = [0, 1, 2]\n",
    "IO.inspect l\n",
    "\n",
    "try do\n",
    "  IO.inspect l[0]\n",
    "rescue\n",
    "  ArgumentError -> IO.inspect \"Access to an item by index failed\"\n",
    "end"
   ]
  },
  {
   "cell_type": "markdown",
   "id": "variable-testimony",
   "metadata": {},
   "source": [
    "文字を表すときにシングルクォーテーション`'`を使うと、内部的には文字のコードポイントのリストとなる。"
   ]
  },
  {
   "cell_type": "code",
   "execution_count": null,
   "id": "primary-convertible",
   "metadata": {},
   "outputs": [],
   "source": [
    "# コードポイントのリスト\n",
    "IO.puts 'ABC'\n",
    "IO.puts [65, 66, 67]\n",
    "IO.puts 'ABC' == [65, 66, 67]\n",
    "\n",
    "# 文字列とは異なる型\n",
    "IO.puts \"ABC\" != 'ABC'"
   ]
  },
  {
   "cell_type": "markdown",
   "id": "simplified-persian",
   "metadata": {},
   "source": [
    "### Tuple\n",
    "\n",
    "- 複数の値を組み合わせた値\n",
    "- 中身の値の型はどんな組合せでも良い\n",
    "- 要素数はコンパイル時に確定する。動的に要素の追加や削除はできない\n",
    "- プログラマが何らかの「意味のある値の組合せ」を表現するために使われることが多い\n",
    "  - floatの組で「座標」を表現する\n",
    "  - `:ok`, `:error`との組で処理の「成功」または「失敗」を表す"
   ]
  },
  {
   "cell_type": "code",
   "execution_count": null,
   "id": "virtual-richardson",
   "metadata": {},
   "outputs": [],
   "source": [
    "IO.inspect {0, 1, 2}\n",
    "\n",
    "IO.inspect File.read(\"./resources/2/hello.txt\")\n",
    "IO.inspect File.read(\"./resources/not/found\") # 例外が生じるのではない"
   ]
  },
  {
   "cell_type": "markdown",
   "id": "covered-venezuela",
   "metadata": {},
   "source": [
    "### Map\n",
    "\n",
    "- keyとvalueの組\n",
    "- 他言語では辞書やオブジェクトと呼ばれる\n",
    "- key, valueともにどのような型でも用いることができる\n",
    "- keyの重複は不可能\n",
    "  - 重複すると、1組のkey valueだけ残る\n",
    "  - どの組が残るかは仕様上不定"
   ]
  },
  {
   "cell_type": "code",
   "execution_count": null,
   "id": "robust-despite",
   "metadata": {},
   "outputs": [],
   "source": [
    "m = %{\"key\" => \"value\", 0 => 1, :atom => :value}\n",
    "\n",
    "IO.inspect m[\"key\"]\n",
    "IO.inspect m[0]\n",
    "IO.inspect m[:atom]"
   ]
  },
  {
   "cell_type": "markdown",
   "id": "enclosed-nutrition",
   "metadata": {},
   "source": [
    "keyがatom**だけ**のとき、省略記法が使える"
   ]
  },
  {
   "cell_type": "code",
   "execution_count": null,
   "id": "nearby-agent",
   "metadata": {},
   "outputs": [],
   "source": [
    "IO.inspect %{a: 0, b: \"b\", c: :value} == %{:a => 0, :b => \"b\", :c => :value}\n",
    "IO.inspect %{a: 0} != %{\"a\" => 0}"
   ]
  },
  {
   "cell_type": "markdown",
   "id": "protected-score",
   "metadata": {},
   "source": [
    "keyがatomのとき、value参照時に省略記法が使える。"
   ]
  },
  {
   "cell_type": "code",
   "execution_count": null,
   "id": "distant-envelope",
   "metadata": {},
   "outputs": [],
   "source": [
    "m = %{:a => 0, \"b\" => 1}\n",
    "\n",
    "IO.inspect m.a == m[:a]\n",
    "IO.inspect m[\"b\"]\n",
    "# IO.puts m.b # => KeyError"
   ]
  },
  {
   "cell_type": "markdown",
   "id": "relative-student",
   "metadata": {},
   "source": [
    "## 特徴的な演算子\n",
    "\n",
    "[Basic operators - Elixir](https://elixir-lang.org/getting-started/basic-operators.html)\n",
    "\n",
    "- 中置演算子\n",
    "  - すでに出ている`+`や`*`などの算術演算子\n",
    "  - リストの連結演算子 `++`\n",
    "  - 文字列の連結演算子 `<>`\n",
    "- 中置演算子も実体は関数\n",
    "  - ドキュメントでは`+/2`のように参照する"
   ]
  },
  {
   "cell_type": "code",
   "execution_count": null,
   "id": "better-profession",
   "metadata": {},
   "outputs": [],
   "source": [
    "1 + 2"
   ]
  },
  {
   "cell_type": "code",
   "execution_count": null,
   "id": "illegal-uncle",
   "metadata": {},
   "outputs": [],
   "source": [
    "[ 1, 2, 3] ++ [4, 5, 6]"
   ]
  },
  {
   "cell_type": "code",
   "execution_count": null,
   "id": "administrative-bahamas",
   "metadata": {},
   "outputs": [],
   "source": [
    "\"Hello\" <> \" world!\""
   ]
  }
 ],
 "metadata": {
  "kernelspec": {
   "display_name": "Elixir",
   "language": "Elixir",
   "name": "ielixir"
  },
  "language_info": {
   "codemirror_mode": "elixir",
   "file_extension": "ex",
   "mimetype": "text/x-elixir",
   "name": "elixir",
   "nbconvert_exporter": "",
   "pygments_lexer": "elixir",
   "version": "1.11.2"
  }
 },
 "nbformat": 4,
 "nbformat_minor": 5
}
