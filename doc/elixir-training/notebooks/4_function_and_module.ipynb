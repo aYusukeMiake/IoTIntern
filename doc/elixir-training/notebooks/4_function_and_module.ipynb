{
 "cells": [
  {
   "cell_type": "markdown",
   "id": "former-integral",
   "metadata": {},
   "source": [
    "# Elixirの関数とモジュール\n",
    "\n",
    "Elixirは関数型言語で、関数は基本的な型の一つでもある。\n",
    "\n",
    "\n",
    "- Elixirの関数は2種類\n",
    "  - コードのどこにでも書ける無名関数(anonymous function)\n",
    "  - モジュール(module)に属する必要がある名前付き関数(named function)\n",
    "  "
   ]
  },
  {
   "cell_type": "markdown",
   "id": "advised-commodity",
   "metadata": {},
   "source": [
    "### 無名関数\n",
    "\n",
    "モジュールに属さない関数。\n",
    "変数に束縛することで使い回すことができる。\n",
    "\n",
    "- 無名関数の定義方法\n",
    "  - 基本\n",
    "    - `fn (`args`) -> `return value` end`\n",
    "  - 引数の括弧は省略可能\n",
    "    - `fn `args` -> `return value` end`\n",
    "- 無名関数は, 内部的には定義時に返る`#Function<43.97283095/2 in :erl_eval.expr/5>`のようなハッシュで識別されている\n",
    "\n",
    "\n",
    "- 無名関数を変数に束縛できる\n",
    "- 無名関数の呼び出し時は, `add.(1, 2)`のように`.()`とカッコの前にピリオドが必要\n",
    "  - 名前付き関数呼び出しの`()`が省略できる仕様との間で曖昧さを回避するため\n",
    "  - `IO.inspect \"hello\"`は`IO` moduleの名前付き関数`puts`を呼び出しているので括弧を省略できている\n",
    "  - 丁寧に書くと`IO.inspect(\"hello\")`"
   ]
  },
  {
   "cell_type": "code",
   "execution_count": null,
   "id": "rolled-antibody",
   "metadata": {},
   "outputs": [],
   "source": [
    "fn x, y -> x + y end"
   ]
  },
  {
   "cell_type": "code",
   "execution_count": null,
   "id": "committed-learning",
   "metadata": {},
   "outputs": [],
   "source": [
    "add = fn (a, b) -> a + b end\n",
    "mul = fn a, b -> a * b end\n",
    "\n",
    "IO.inspect add.(1, 2)\n",
    "IO.inspect mul.(3, 2)"
   ]
  },
  {
   "cell_type": "markdown",
   "id": "designed-accreditation",
   "metadata": {},
   "source": [
    "引数名を省略する記法もある\n",
    "- `&()`で囲み, `&1`, `&2`, ... で第1引数から順に参照する\n",
    "- 後述の高階関数に単純な関数を与える際などに使うことがある"
   ]
  },
  {
   "cell_type": "code",
   "execution_count": null,
   "id": "going-channel",
   "metadata": {},
   "outputs": [],
   "source": [
    "# fn a, b -> a + b end と同等\n",
    "&(&1 + &2)\n",
    "\n",
    "# fn f, arg -> f.(arg) end と同等\n",
    "&(&1.(&2))"
   ]
  },
  {
   "cell_type": "markdown",
   "id": "recognized-annual",
   "metadata": {},
   "source": [
    "式を複数持つ無名関数を定義することもできる。\n",
    "\n",
    "関数内の最後の式の値が返り値になる。"
   ]
  },
  {
   "cell_type": "code",
   "execution_count": null,
   "id": "meaningful-yukon",
   "metadata": {},
   "outputs": [],
   "source": [
    "verbose_add = fn (a, b) ->\n",
    "  IO.puts a\n",
    "  IO.puts b\n",
    "  a + b\n",
    "end\n",
    "\n",
    "verbose_add.(2, 3)"
   ]
  },
  {
   "cell_type": "markdown",
   "id": "breathing-verification",
   "metadata": {},
   "source": [
    "おまけクイズ\n",
    "無名関数を変数に束縛せずに呼び出すことも可能。どうすればいいだろうか? 他言語では即時関数と呼ばれている場合がある。"
   ]
  },
  {
   "cell_type": "code",
   "execution_count": null,
   "id": "heated-thong",
   "metadata": {},
   "outputs": [],
   "source": [
    "# Q. 変数に束縛せず2つの値を引数にとってその和を返す関数を定義し, かつその場で無名関数を1と2に適用せよ。(返り値の期待値は3)\n"
   ]
  },
  {
   "cell_type": "markdown",
   "id": "moved-literature",
   "metadata": {},
   "source": [
    "## 高階関数\n",
    "\n",
    "引数に関数を取ったり、関数を返り値としたりする関数。"
   ]
  },
  {
   "cell_type": "code",
   "execution_count": null,
   "id": "sufficient-organization",
   "metadata": {},
   "outputs": [],
   "source": [
    "# 関数 f を受け取って, 2つの引数を f に適用する関数を返す関数\n",
    "my_apply2 = fn f -> \n",
    "  fn x, y -> f.(x, y) end \n",
    "end"
   ]
  },
  {
   "cell_type": "code",
   "execution_count": null,
   "id": "indian-queens",
   "metadata": {},
   "outputs": [],
   "source": [
    "# 和と積を計算する関数\n",
    "my_add = my_apply2.(&(&1 + &2))\n",
    "my_mul = my_apply2.(&(&1 * &2))"
   ]
  },
  {
   "cell_type": "code",
   "execution_count": null,
   "id": "atomic-fabric",
   "metadata": {},
   "outputs": [],
   "source": [
    "IO.inspect my_add.(6, 7)\n",
    "IO.inspect my_mul.(6, 7)"
   ]
  },
  {
   "cell_type": "markdown",
   "id": "obvious-afternoon",
   "metadata": {},
   "source": [
    "### 練習問題\n",
    "\n",
    "第1引数，第2引数に数字，第3引数に引数を2つとる関数をとり, 第1引数と第2引数をそれぞれ第3引数の関数へ渡して実行する関数を作ってみよう。\n",
    "\n",
    "（fnを使う記法と&を使う記法と両方で作ってみよう）"
   ]
  },
  {
   "cell_type": "code",
   "execution_count": null,
   "id": "hollow-amber",
   "metadata": {},
   "outputs": [],
   "source": [
    "func = fn -> end # implement me!\n",
    "\n",
    "add = &(&1 + &2)\n",
    "func.(1, 2, add) == 3"
   ]
  },
  {
   "cell_type": "code",
   "execution_count": null,
   "id": "stopped-australia",
   "metadata": {},
   "outputs": [],
   "source": [
    "# 左辺で関数定義と関数適用を完結させてください\n",
    "== 3"
   ]
  },
  {
   "cell_type": "markdown",
   "id": "phantom-offset",
   "metadata": {},
   "source": [
    "### モジュールと名前付き関数\n",
    "\n",
    "Elixirでは関連する関数をグループ化してモジュールとして管理する．\n",
    "\n",
    "処理を行う対象となるデータごとにモジュールを分割する事が多い。\n",
    "\n",
    "- e.g.) 文字列を処理する`String`モジュールなど\n",
    "\n",
    "モジュールは階層化することができる。\n",
    "\n",
    "\n",
    "モジュール内で定義した関数は名前付き関数となる。\n",
    "- `def`でモジュール外から呼び出せるpublic関数を定義\n",
    "- `defp`でモジュール内からしか呼び出せないprovate関数を定義\n"
   ]
  },
  {
   "cell_type": "code",
   "execution_count": null,
   "id": "forward-enforcement",
   "metadata": {},
   "outputs": [],
   "source": [
    "defmodule MyMath do\n",
    "  def add(x, y) do\n",
    "    x + y\n",
    "  end\n",
    "  \n",
    "  def multiple(x, y) do\n",
    "    x * y\n",
    "  end\n",
    "  \n",
    "  def get_sum_and_products(x, y) do\n",
    "    show_args(x, y)\n",
    "    {add(x, y), multiple(x, y)}\n",
    "  end\n",
    "  \n",
    "  defp show_args(x, y) do\n",
    "    IO.inspect \"Called with x: #{x}, y: #{y}\"\n",
    "  end\n",
    "end"
   ]
  },
  {
   "cell_type": "code",
   "execution_count": null,
   "id": "extensive-concrete",
   "metadata": {},
   "outputs": [],
   "source": [
    "IO.inspect MyMath.add(1, 2)\n",
    "IO.inspect MyMath.multiple(2, 3)"
   ]
  },
  {
   "cell_type": "code",
   "execution_count": null,
   "id": "cleared-nutrition",
   "metadata": {},
   "outputs": [],
   "source": [
    "MyMath.get_sum_and_products(2, 3)"
   ]
  },
  {
   "cell_type": "code",
   "execution_count": null,
   "id": "acknowledged-snake",
   "metadata": {},
   "outputs": [],
   "source": [
    "MyMath.show_args(2, 3)\n",
    "# => %UndefinedFunctionError{arity: 2, function: :show_args, message: nil, module: MyMath, reason: nil}"
   ]
  },
  {
   "cell_type": "code",
   "execution_count": null,
   "id": "hourly-chapel",
   "metadata": {},
   "outputs": [],
   "source": [
    "# 名前付き関数適用時の括弧は省略可能\n",
    "MyMath.add 1, 2"
   ]
  },
  {
   "cell_type": "markdown",
   "id": "congressional-moldova",
   "metadata": {},
   "source": [
    "高階関数に名前付き関数を渡す時は、`&ModuleName.function_name/0`や`&function_name/0`のように、`/0`でarity(引数の数)を指定する。\n",
    "\n",
    "Elixirではarityが違う関数は異なるものとして扱われる。"
   ]
  },
  {
   "cell_type": "code",
   "execution_count": null,
   "id": "direct-scout",
   "metadata": {},
   "outputs": [],
   "source": [
    "defmodule Vegitable do\n",
    "  def apply_get_name(get_name_func) do\n",
    "    get_name_func.()\n",
    "  end\n",
    "\n",
    "  def apply_get_name(get_name_func, adjective) do\n",
    "    get_name_func.(adjective)\n",
    "  end\n",
    "end\n",
    "\n",
    "defmodule Vegitable.Tomato do\n",
    "  def get_name() do\n",
    "    \"tomato\"\n",
    "  end\n",
    "  \n",
    "  def get_name(adjective) do\n",
    "    \"#{adjective} tomato\"\n",
    "  end\n",
    "end"
   ]
  },
  {
   "cell_type": "code",
   "execution_count": null,
   "id": "wrapped-chosen",
   "metadata": {},
   "outputs": [],
   "source": [
    "Vegitable.apply_get_name(&Vegitable.Tomato.get_name/0)"
   ]
  },
  {
   "cell_type": "code",
   "execution_count": null,
   "id": "industrial-oklahoma",
   "metadata": {},
   "outputs": [],
   "source": [
    "Vegitable.apply_get_name(&Vegitable.Tomato.get_name/1, \"sweet\")"
   ]
  },
  {
   "cell_type": "code",
   "execution_count": null,
   "id": "related-debate",
   "metadata": {},
   "outputs": [],
   "source": [
    "Vegitable.apply_get_name(&Vegitable.Tomato.get_name/0, \"sweet\")"
   ]
  },
  {
   "cell_type": "markdown",
   "id": "constant-lightweight",
   "metadata": {},
   "source": [
    "### 関数の多重定義\n",
    "\n",
    "Elixirでは、同じ名前・arityの関数を複数定義することができる。\n",
    "\n",
    "このとき、引数のパターンマッチにより適用を分岐することができる。\n",
    "\n",
    "無名関数と名前付き関数で定義方法が若干異なる。"
   ]
  },
  {
   "cell_type": "code",
   "execution_count": null,
   "id": "offensive-spouse",
   "metadata": {},
   "outputs": [],
   "source": [
    "overloaded_func = fn\n",
    "  {:ok, value}  -> IO.puts \"OK #{value}\"\n",
    "  {:error, msg} -> IO.puts \"Error #{msg}\"\n",
    "  _             -> IO.puts \"not match\"\n",
    "end\n",
    "\n",
    "overloaded_func.({:ok, \"good\"})\n",
    "overloaded_func.({:error, \"bad\"})\n",
    "overloaded_func.(:ok)"
   ]
  },
  {
   "cell_type": "code",
   "execution_count": null,
   "id": "negative-fifteen",
   "metadata": {},
   "outputs": [],
   "source": [
    "defmodule OverloadExample do\n",
    "  def ensure_success({:ok, _} = result) do\n",
    "    IO.puts \"Succeeded\"\n",
    "    result\n",
    "  end\n",
    "  \n",
    "  def ensure_success({:error, message} = result) do\n",
    "    IO.puts \"Failed (#{message})\"\n",
    "    result\n",
    "  end\n",
    "  \n",
    "  def ensure_success(_) do\n",
    "    IO.puts \"Something wrong\"\n",
    "  end\n",
    "end\n",
    "\n",
    "OverloadExample.ensure_success({:ok, 42})\n",
    "OverloadExample.ensure_success({:error, \"No answer is found\"})\n",
    "OverloadExample.ensure_success(:not_considered)"
   ]
  },
  {
   "cell_type": "markdown",
   "id": "stylish-facility",
   "metadata": {},
   "source": [
    "### 関数の仕様(スペック)\n",
    "\n",
    "Elixirは動的型付け言語なので、ランタイム時の型チェックは難しい。\n",
    "\n",
    "しかし、型自体は存在しており、関数のスペック(引数や返り値の型)を表現することは可能。\n",
    "\n",
    "スペックを定義することで、静的解析ツールを用いてコンパイル時にチェックさせることが可能。\n"
   ]
  },
  {
   "cell_type": "code",
   "execution_count": null,
   "id": "compliant-infrared",
   "metadata": {},
   "outputs": [],
   "source": [
    "defmodule SpecExample do\n",
    "  @spec add(number, number) :: number\n",
    "  def add(x, y) do\n",
    "    x + y\n",
    "  end\n",
    "end"
   ]
  }
 ],
 "metadata": {
  "kernelspec": {
   "display_name": "Elixir",
   "language": "Elixir",
   "name": "ielixir"
  },
  "language_info": {
   "codemirror_mode": "elixir",
   "file_extension": "ex",
   "mimetype": "text/x-elixir",
   "name": "elixir",
   "nbconvert_exporter": "",
   "pygments_lexer": "elixir",
   "version": "1.11.2"
  }
 },
 "nbformat": 4,
 "nbformat_minor": 5
}
