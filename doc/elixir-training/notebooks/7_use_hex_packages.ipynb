{
 "cells": [
  {
   "cell_type": "markdown",
   "id": "prime-seventh",
   "metadata": {},
   "source": [
    "# Hexパッケージ\n",
    "\n",
    "Elixirには[Hex](https://hex.pm/)というパッケージマネージャーがある。\n",
    "\n",
    "Elixirでは`mix`というツールでプロジェクト管理をするのだが、[このように](https://hex.pm/docs/usage)プロジェクトの定義ファイルに依存パッケージを記述することでパッケージを利用可能になる。\n",
    "\n",
    "HexパッケージにはErlang向けのものもあるが、それらはElixirでも問題なく使用することができる。\n",
    "\n",
    "ここではnotebook上でいくつかのHexパッケージをインストールし、利用してみる。\n",
    "\n",
    "- [Jason](https://hexdocs.pm/jason/readme.html): 高速なJSONパーサー・ジェネレーター\n",
    "- [Croma](https://hexdocs.pm/croma/api-reference.html): Antikythera創始者の方が作成した、型ベースプログラミングのためのマクロ集\n",
    "- [meck](https://hexdocs.pm/meck/): Erlang向けのモッキングライブラリ\n",
    "\n",
    "[Antikythera](https://hexdocs.pm/antikythera/api-reference.html)もHexパッケージとして公開されている。\n",
    "(Jupyter notebook上で動作させることは難しいので、ここでは扱わない)"
   ]
  },
  {
   "cell_type": "markdown",
   "id": "public-large",
   "metadata": {},
   "source": [
    "## Jupyter notebook上での利用\n",
    "\n",
    "通常依存パッケージはmix projectで管理するが、ここでは動的にパッケージのインストールと利用を行うため、[Boyle](https://github.com/pprzetacznik/IElixir#package-management-with-boyle)というモジュールを利用する、\n",
    "\n",
    "あくまでもJupyter notebook上で動作させる場合に特有の事情である。"
   ]
  },
  {
   "cell_type": "code",
   "execution_count": null,
   "id": "plastic-jacob",
   "metadata": {},
   "outputs": [],
   "source": [
    "Boyle.mk(\"training_env\")\n",
    "Boyle.activate(\"training_env\")\n",
    "# :ok が返ること"
   ]
  },
  {
   "cell_type": "code",
   "execution_count": null,
   "id": "rapid-watson",
   "metadata": {},
   "outputs": [],
   "source": [
    "Boyle.install({:jason, \"1.2.2\"})\n",
    "Boyle.install({:croma, \"0.10.2\"})\n",
    "Boyle.install({:meck, \"0.9.2\"})\n",
    "# :ok が返ること"
   ]
  },
  {
   "cell_type": "markdown",
   "id": "cheap-wedding",
   "metadata": {},
   "source": [
    "### Jason\n",
    "\n",
    "- `Jason.decode/1` でJSON形式の文字列をElixirの値にパースする\n",
    "  - `Jason.decode!/1` はパースに失敗するとエラー\n",
    "- `Jason.encode/1` でElixirの値をJSON文字列にエンコードする\n",
    "  - `Jason.encode!/1` はエンコードに失敗するとエラー\n",
    "  \n",
    "WebサーバーではHTTPリクエストやレスポンスのbodyに対して適用することが多い。"
   ]
  },
  {
   "cell_type": "code",
   "execution_count": null,
   "id": "optical-store",
   "metadata": {},
   "outputs": [],
   "source": [
    "json = \"\"\"\n",
    "{\n",
    "  \"x\": 0,\n",
    "  \"y\": \"a\",\n",
    "  \"array\": [0, 1, 2],\n",
    "  \"nested\": {\n",
    "    \"inner\": {}\n",
    "  }\n",
    "}\n",
    "\"\"\"\n",
    "\n",
    "{:ok, map} = Jason.decode(json)\n",
    "IO.inspect map"
   ]
  },
  {
   "cell_type": "code",
   "execution_count": null,
   "id": "enclosed-rainbow",
   "metadata": {},
   "outputs": [],
   "source": [
    "File.read!(\"./resources/7/test.json\")\n",
    "|> Jason.decode!()"
   ]
  },
  {
   "cell_type": "code",
   "execution_count": null,
   "id": "pressed-summer",
   "metadata": {},
   "outputs": [],
   "source": [
    "{:error, reason} = Jason.decode(\"{[]}\")"
   ]
  },
  {
   "cell_type": "code",
   "execution_count": null,
   "id": "neural-stroke",
   "metadata": {},
   "outputs": [],
   "source": [
    "result = Jason.decode!(\"{[]}\")\n",
    "# => Jason.DecodeError"
   ]
  },
  {
   "cell_type": "code",
   "execution_count": null,
   "id": "tough-laser",
   "metadata": {},
   "outputs": [],
   "source": [
    "{:ok, json} = Jason.encode(%{a: 0})\n",
    "IO.puts json"
   ]
  },
  {
   "cell_type": "markdown",
   "id": "inclusive-edwards",
   "metadata": {},
   "source": [
    "### Croma\n",
    "\n",
    "- Elixirで型ベースプログラミングを行うのを楽にするマクロ集\n"
   ]
  },
  {
   "cell_type": "code",
   "execution_count": null,
   "id": "vocal-shoulder",
   "metadata": {},
   "outputs": [],
   "source": [
    "# Croma.Structを使ってStructを定義\n",
    "# new/1 または new!/1 関数を使ってStructを生成する時、フィールドのvalidationが自動で行われる\n",
    "\n",
    "\n",
    "defmodule TestStruct do\n",
    "  use Croma.Struct, recursive_new?: true, fields: [\n",
    "    x: Croma.Integer\n",
    "  ]\n",
    "end\n",
    "\n",
    "defmodule OtherStruct do\n",
    "  use Croma.Struct, recursive_new?: true, fields: [\n",
    "    x: Croma.Integer\n",
    "  ]\n",
    "end"
   ]
  },
  {
   "cell_type": "code",
   "execution_count": null,
   "id": "radical-entry",
   "metadata": {},
   "outputs": [],
   "source": [
    "TestStruct.new(%{x: 0})"
   ]
  },
  {
   "cell_type": "code",
   "execution_count": null,
   "id": "square-stone",
   "metadata": {},
   "outputs": [],
   "source": [
    "TestStruct.new(%{x: 1.0})"
   ]
  },
  {
   "cell_type": "code",
   "execution_count": null,
   "id": "controlling-texture",
   "metadata": {},
   "outputs": [],
   "source": [
    "%TestStruct{x: x} = TestStruct.new!(%{x: 0})\n",
    "IO.inspect x"
   ]
  },
  {
   "cell_type": "code",
   "execution_count": null,
   "id": "mineral-uganda",
   "metadata": {},
   "outputs": [],
   "source": [
    "# Cromaの使用に関わらず、異なるStructどうしはマッチしない\n",
    "\n",
    "%OtherStruct{x: x} = TestStruct.new!(%{x: 0})\n",
    "# => MatchError"
   ]
  },
  {
   "cell_type": "code",
   "execution_count": null,
   "id": "british-conservative",
   "metadata": {},
   "outputs": [],
   "source": [
    "# Structのフィールドをより詳細に定義する例\n",
    "\n",
    "defmodule Food do\n",
    "  defmodule Category do\n",
    "    use Croma.SubtypeOfAtom,  values: [:meat, :vegitable, :fruit]\n",
    "  end\n",
    "  \n",
    "  defmodule Name do\n",
    "    use Croma.SubtypeOfString, pattern: ~r/\\A.{1,50}\\z/\n",
    "  end\n",
    "  \n",
    "  use Croma.Struct, recursive_new?: true, fields: [\n",
    "    category: Category,\n",
    "    name:     Name\n",
    "  ]\n",
    "end\n",
    "\n",
    "\n",
    "defmodule Eater do\n",
    "  def eat(%{category: category, name: name}) do\n",
    "    case category do\n",
    "      :vegitable -> \"I do not like #{name}, but I eat it...\"\n",
    "      _          -> \"I love #{name}!\"\n",
    "    end\n",
    "  end\n",
    "end"
   ]
  },
  {
   "cell_type": "code",
   "execution_count": null,
   "id": "literary-faith",
   "metadata": {},
   "outputs": [],
   "source": [
    "[\n",
    "  %{category: :meat,      name: \"pork\"},\n",
    "  %{category: :vegitable, name: \"tomato\"},\n",
    "  %{category: :fruit,     name: \"apple\"}\n",
    "]\n",
    "|> Enum.map(&Food.new!/1)\n",
    "|> Enum.map(&Eater.eat/1)"
   ]
  },
  {
   "cell_type": "code",
   "execution_count": null,
   "id": "comparative-istanbul",
   "metadata": {
    "scrolled": true
   },
   "outputs": [],
   "source": [
    "# nameの文字数が50より大きい場合にはエラー\n",
    "Food.new(%{category: :meat, name: \"this meat is something having too long name and we cannot pronounce it\"})"
   ]
  },
  {
   "cell_type": "code",
   "execution_count": null,
   "id": "statutory-gauge",
   "metadata": {},
   "outputs": [],
   "source": [
    "# nameの文字数が0の場合にエラーになることを確かめよう\n",
    "\n",
    "# categoryに未定義のatomが渡される場合もエラーになることを確かめよう\n"
   ]
  },
  {
   "cell_type": "markdown",
   "id": "involved-frost",
   "metadata": {},
   "source": [
    "Cromaのマクロで関数の型スペックを簡潔に表したり、引数や返り値が期待した型であることのvalidationが可能。\n",
    "\n",
    "- `def`に代わる`defun`\n",
    "- `defp`に代わる`defunp`"
   ]
  },
  {
   "cell_type": "code",
   "execution_count": null,
   "id": "forty-discount",
   "metadata": {},
   "outputs": [],
   "source": [
    "defmodule CromaTestModule do\n",
    "  use Croma # Cromaが提供するマクロを利用するために必要\n",
    "  \n",
    "  @moduledoc \"\"\"\n",
    "  `defun`や`defunp`で引数に続けて`:: type`のように型を書く。\n",
    "  `v[]`で型を囲むと、ランタイム時に引数の型が仕様にあっていることのvalidationが行われる。\n",
    "  \n",
    "  返り値も同様に表現する。\n",
    "  \n",
    "  `defun`や`defunp`で多重定義する際は、無名関数の多重定義のような書き方をする必要がある。\n",
    "  \"\"\"\n",
    "  \n",
    "  @spec add(integer, integer) :: integer\n",
    "  def add(x, y) do\n",
    "    x + y\n",
    "  end\n",
    "  \n",
    "  defun add_integers(x :: v[integer], y :: v[integer]) :: v[integer] do\n",
    "    x + y\n",
    "  end\n",
    "  \n",
    "  defun add_integers_without_validation(x :: integer, y :: integer) :: integer do\n",
    "    x + y\n",
    "  end\n",
    "  \n",
    "  defun accept_hello_atom(value :: atom) :: Croma.Result.t(:hello, String.t) do\n",
    "    (:hello)     -> {:ok, :hello}\n",
    "    (other_atom) -> {:error, format_message(other_atom)}\n",
    "  end\n",
    "  \n",
    "  defunp format_message(value :: v[atom]) :: v[String.t] do\n",
    "    \"#{value} is not :hello atom\"\n",
    "  end\n",
    "end"
   ]
  },
  {
   "cell_type": "code",
   "execution_count": null,
   "id": "stuck-default",
   "metadata": {},
   "outputs": [],
   "source": [
    "CromaTestModule.add_integers(0, 1)"
   ]
  },
  {
   "cell_type": "code",
   "execution_count": null,
   "id": "current-fairy",
   "metadata": {},
   "outputs": [],
   "source": [
    "CromaTestModule.add_integers(0.0, 1)\n",
    "# => %RuntimeError{message: \"validation error: x is not a valid integer\"}"
   ]
  },
  {
   "cell_type": "code",
   "execution_count": null,
   "id": "liked-boards",
   "metadata": {},
   "outputs": [],
   "source": [
    "CromaTestModule.add_integers_without_validation(0.0, 1)"
   ]
  },
  {
   "cell_type": "code",
   "execution_count": null,
   "id": "valuable-charles",
   "metadata": {},
   "outputs": [],
   "source": [
    "IO.inspect CromaTestModule.accept_hello_atom(:hello)\n",
    "IO.inspect CromaTestModule.accept_hello_atom(:world)"
   ]
  },
  {
   "cell_type": "markdown",
   "id": "linear-agenda",
   "metadata": {},
   "source": [
    "### meck\n",
    "\n",
    "Erlang向けのモッキングライブラリ。\n",
    "\n",
    "モジュールの関数の振る舞いを動的に自由に変えたり、呼び出し回数を計測したりできる。"
   ]
  },
  {
   "cell_type": "code",
   "execution_count": null,
   "id": "liked-provincial",
   "metadata": {},
   "outputs": [],
   "source": [
    "defmodule Hoge do\n",
    "  def add(x, y) do\n",
    "    x + y\n",
    "  end\n",
    "end\n",
    "\n",
    "Hoge.add(1, 2)"
   ]
  },
  {
   "cell_type": "code",
   "execution_count": null,
   "id": "hungry-sequence",
   "metadata": {},
   "outputs": [],
   "source": [
    "# Hogeモジュールをモック\n",
    "# Erlangのライブラリなので、atomでmeckモジュールが表されている\n",
    ":meck.new(Hoge, [:passthrough])"
   ]
  },
  {
   "cell_type": "code",
   "execution_count": null,
   "id": "heated-breakdown",
   "metadata": {},
   "outputs": [],
   "source": [
    "# add関数の振る舞いを変える\n",
    "# atomで関数名を指定することに注意\n",
    ":meck.expect(Hoge, :add, fn(x, y) -> x + y + 2 end)"
   ]
  },
  {
   "cell_type": "code",
   "execution_count": null,
   "id": "buried-walter",
   "metadata": {},
   "outputs": [],
   "source": [
    "Hoge.add(1, 2)"
   ]
  },
  {
   "cell_type": "code",
   "execution_count": null,
   "id": "affiliated-marks",
   "metadata": {},
   "outputs": [],
   "source": [
    ":meck.num_calls(Hoge, :add, 2)"
   ]
  },
  {
   "cell_type": "markdown",
   "id": "interracial-citizenship",
   "metadata": {},
   "source": [
    "`:meck.expect`はテストの際によく使う。\n",
    "\n",
    "- テスト中の現在日時を特定の値に固定する\n",
    "- 外部との通信を行う関数で、通信が成功した場合と失敗した場合をそれぞれ想定"
   ]
  },
  {
   "cell_type": "code",
   "execution_count": null,
   "id": "favorite-inside",
   "metadata": {},
   "outputs": [],
   "source": [
    "# モックしたモジュールを削除\n",
    ":meck.unload(Hoge)"
   ]
  }
 ],
 "metadata": {
  "kernelspec": {
   "display_name": "Elixir",
   "language": "Elixir",
   "name": "ielixir"
  },
  "language_info": {
   "codemirror_mode": "elixir",
   "file_extension": "ex",
   "mimetype": "text/x-elixir",
   "name": "elixir",
   "nbconvert_exporter": "",
   "pygments_lexer": "elixir",
   "version": "1.11.2"
  }
 },
 "nbformat": 4,
 "nbformat_minor": 5
}
