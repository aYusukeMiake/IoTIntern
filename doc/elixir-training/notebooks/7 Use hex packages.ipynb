{
 "cells": [
  {
   "cell_type": "markdown",
   "id": "prime-seventh",
   "metadata": {},
   "source": [
    "# Hexパッケージ\n",
    "\n",
    "Elixirには[Hex](https://hex.pm/)というパッケージマネージャーがある。\n",
    "\n",
    "Elixirでは`mix`というツールでプロジェクト管理をする。\n",
    "  - [このように](https://hex.pm/docs/usage)`mix.exs`というプロジェクト定義ファイルに依存パッケージを記述する\n",
    "\n",
    "Erlang向けのHexパッケージもあり、Elixirでも問題なく使用可能。\n",
    "\n",
    "ここではいくつかのHexパッケージを紹介する。\n",
    "\n",
    "- [Jason](https://hexdocs.pm/jason/readme.html): 高速なJSONパーサー・ジェネレーター\n",
    "- [Croma](https://hexdocs.pm/croma/api-reference.html): Antikythera創始者の方が作成した、型ベースプログラミングのためのマクロ集\n",
    "- [meck](https://hexdocs.pm/meck/): Erlang向けのモッキングライブラリ\n",
    "\n",
    "なお、[Antikythera](https://hexdocs.pm/antikythera/api-reference.html)もHexパッケージとして公開されている。\n",
    "(Jupyter notebook上で動作させることは難しいので、ここでは扱わない)"
   ]
  },
  {
   "cell_type": "markdown",
   "id": "public-large",
   "metadata": {},
   "source": [
    "## Jupyter notebook上での利用\n",
    "\n",
    "ここでは動的にパッケージのインストールと利用を行うため、[Boyle](https://github.com/pprzetacznik/IElixir#package-management-with-boyle)というモジュールを利用する。\n",
    "\n",
    "あくまでもJupyter notebook上で動作させる場合に特有の事情である。"
   ]
  },
  {
   "cell_type": "code",
   "execution_count": null,
   "id": "plastic-jacob",
   "metadata": {},
   "outputs": [],
   "source": [
    "Boyle.mk(\"training_env\")\n",
    "Boyle.activate(\"training_env\")\n",
    "# :ok が返ること"
   ]
  },
  {
   "cell_type": "code",
   "execution_count": null,
   "id": "rapid-watson",
   "metadata": {},
   "outputs": [],
   "source": [
    "Boyle.install({:jason,     \"1.2.2\"})\n",
    "Boyle.install({:croma,     \"0.10.2\"})\n",
    "Boyle.install({:httpoison, \"1.8.0\"})\n",
    "Boyle.install({:meck,      \"0.9.2\"})\n",
    "# しばらく待って :ok が返ること"
   ]
  },
  {
   "cell_type": "markdown",
   "id": "cheap-wedding",
   "metadata": {},
   "source": [
    "### Jason\n",
    "\n",
    "- `Jason.decode/1` でJSON形式の文字列をElixirの値にパースする\n",
    "  - `Jason.decode!/1` はパースに失敗するとエラー\n",
    "- `Jason.encode/1` でElixirの値をJSON文字列にエンコードする\n",
    "  - `Jason.encode!/1` はエンコードに失敗するとエラー\n",
    "  \n",
    "WebサーバーではHTTPリクエストやレスポンスのbodyに対して適用することが多い。"
   ]
  },
  {
   "cell_type": "code",
   "execution_count": null,
   "id": "optical-store",
   "metadata": {},
   "outputs": [],
   "source": [
    "json = \"\"\"\n",
    "{\n",
    "  \"x\": 0,\n",
    "  \"y\": \"a\",\n",
    "  \"array\": [0, 1, 2],\n",
    "  \"nested\": {\n",
    "    \"inner\": {}\n",
    "  }\n",
    "}\n",
    "\"\"\"\n",
    "\n",
    "{:ok, map} = Jason.decode(json)\n",
    "IO.inspect map"
   ]
  },
  {
   "cell_type": "code",
   "execution_count": null,
   "id": "enclosed-rainbow",
   "metadata": {},
   "outputs": [],
   "source": [
    "File.read!(\"./resources/7/test.json\")\n",
    "|> Jason.decode!()"
   ]
  },
  {
   "cell_type": "code",
   "execution_count": null,
   "id": "pressed-summer",
   "metadata": {},
   "outputs": [],
   "source": [
    "{:error, reason} = Jason.decode(\"{[]}\")"
   ]
  },
  {
   "cell_type": "code",
   "execution_count": null,
   "id": "neural-stroke",
   "metadata": {},
   "outputs": [],
   "source": [
    "result = Jason.decode!(\"{[]}\")\n",
    "# => Jason.DecodeError"
   ]
  },
  {
   "cell_type": "code",
   "execution_count": null,
   "id": "tough-laser",
   "metadata": {},
   "outputs": [],
   "source": [
    "{:ok, json} = Jason.encode(%{a: 0})\n",
    "json"
   ]
  },
  {
   "cell_type": "markdown",
   "id": "inclusive-edwards",
   "metadata": {},
   "source": [
    "### Croma\n",
    "\n",
    "- Elixirで型ベースプログラミングを行うのを楽にするマクロ集\n",
    "\n",
    "#### バリデーションつきStructの定義"
   ]
  },
  {
   "cell_type": "code",
   "execution_count": null,
   "id": "vocal-shoulder",
   "metadata": {},
   "outputs": [],
   "source": [
    "# 例1. フィールドのバリデーションつきStructを定義\n",
    "# new/1 や new!/1 関数でStructを生成する時、フィールドのvalidationが自動で行われる\n",
    "\n",
    "\n",
    "defmodule TestStruct do\n",
    "  # xは整数でなければならない\n",
    "  use Croma.Struct, recursive_new?: true, fields: [\n",
    "    x: Croma.Integer\n",
    "  ]\n",
    "end\n",
    "\n",
    "defmodule OtherStruct do\n",
    "  # xは整数でなければならない\n",
    "  use Croma.Struct, recursive_new?: true, fields: [\n",
    "    x: Croma.Integer\n",
    "  ]\n",
    "end"
   ]
  },
  {
   "cell_type": "code",
   "execution_count": null,
   "id": "radical-entry",
   "metadata": {},
   "outputs": [],
   "source": [
    "TestStruct.new(%{x: 0})"
   ]
  },
  {
   "cell_type": "code",
   "execution_count": null,
   "id": "square-stone",
   "metadata": {},
   "outputs": [],
   "source": [
    "# xのvalueが整数ではないので失敗\n",
    "TestStruct.new(%{x: 1.0})"
   ]
  },
  {
   "cell_type": "code",
   "execution_count": null,
   "id": "controlling-texture",
   "metadata": {},
   "outputs": [],
   "source": [
    "# Structの種類を考慮したパターンマッチ\n",
    "%TestStruct{x: x} = TestStruct.new!(%{x: 0})\n",
    "\n",
    "x"
   ]
  },
  {
   "cell_type": "code",
   "execution_count": null,
   "id": "mineral-uganda",
   "metadata": {},
   "outputs": [],
   "source": [
    "# Cromaの使用に関わらず、異なるStructどうしはマッチしない\n",
    "%OtherStruct{x: x} = TestStruct.new!(%{x: 0})\n",
    "# => MatchError"
   ]
  },
  {
   "cell_type": "code",
   "execution_count": null,
   "id": "british-conservative",
   "metadata": {},
   "outputs": [],
   "source": [
    "# Structのフィールドをより詳細に定義する例\n",
    "\n",
    "defmodule Food do\n",
    "\n",
    "  # 特定のatomだけ許可\n",
    "  defmodule Category do\n",
    "    use Croma.SubtypeOfAtom,  values: [:meat, :vegitable, :fruit]\n",
    "  end\n",
    "  \n",
    "  # 正規表現で長さ1～50の文字列を許可\n",
    "  defmodule Name do\n",
    "    use Croma.SubtypeOfString, pattern: ~r/\\A.{1,50}\\z/\n",
    "  end\n",
    "  \n",
    "  use Croma.Struct, recursive_new?: true, fields: [\n",
    "    category: Category,\n",
    "    name:     Name\n",
    "  ]\n",
    "end\n",
    "\n",
    "\n",
    "defmodule Eater do\n",
    "\n",
    "  # Food struct を引数に取る関数\n",
    "  def eat(%Food{category: category, name: name}) do\n",
    "    case category do\n",
    "      :vegitable -> \"I do not like #{name}, but I eat it...\"\n",
    "      _          -> \"I love #{name}!\"\n",
    "    end\n",
    "  end\n",
    "end"
   ]
  },
  {
   "cell_type": "code",
   "execution_count": null,
   "id": "literary-faith",
   "metadata": {},
   "outputs": [],
   "source": [
    "[\n",
    "  %{category: :meat,      name: \"pork\"},\n",
    "  %{category: :vegitable, name: \"tomato\"},\n",
    "  %{category: :fruit,     name: \"apple\"}\n",
    "]\n",
    "|> Enum.map(&Food.new!/1)\n",
    "|> Enum.map(&Eater.eat/1)"
   ]
  },
  {
   "cell_type": "code",
   "execution_count": null,
   "id": "comparative-istanbul",
   "metadata": {
    "scrolled": true
   },
   "outputs": [],
   "source": [
    "# nameの文字数が50より大きい場合にはエラー\n",
    "Food.new(%{category: :meat, name: \"this meat is something having too long name and we cannot pronounce it\"})"
   ]
  },
  {
   "cell_type": "code",
   "execution_count": null,
   "id": "statutory-gauge",
   "metadata": {},
   "outputs": [],
   "source": [
    "# nameの文字数が0の場合にエラーになることを確かめよう\n",
    "Food.new(%{})"
   ]
  },
  {
   "cell_type": "code",
   "execution_count": null,
   "id": "atomic-westminster",
   "metadata": {},
   "outputs": [],
   "source": [
    "# categoryに未定義のatomが渡される場合もエラーになることを確かめよう\n",
    "Food.new(%{})"
   ]
  },
  {
   "cell_type": "markdown",
   "id": "involved-frost",
   "metadata": {},
   "source": [
    "#### 関数定義における利用例\n",
    "\n",
    "こちらは参考までに。\n",
    "\n",
    "関数定義時に関数の型スペックを簡潔に表したり、引数や返り値が期待した型であることのvalidationをしたりできる。\n",
    "\n",
    "- `def`に代わる`defun`\n",
    "- `defp`に代わる`defunp`"
   ]
  },
  {
   "cell_type": "code",
   "execution_count": null,
   "id": "forty-discount",
   "metadata": {},
   "outputs": [],
   "source": [
    "defmodule CromaTestModule do\n",
    "  use Croma # Cromaが提供するマクロを利用するために必要\n",
    "  \n",
    "  @moduledoc \"\"\"\n",
    "  `defun`や`defunp`で引数に続けて`:: type`のように型を書く。\n",
    "  `v[]`で型を囲むと、ランタイム時に引数の型が仕様にあっていることのvalidationが行われる。\n",
    "  \n",
    "  返り値も同様に表現する。\n",
    "  \n",
    "  `defun`や`defunp`で多重定義する際は、無名関数の多重定義のような書き方をする必要がある。\n",
    "  \"\"\"\n",
    "  \n",
    "  # Elixir標準の記法\n",
    "  @spec add(integer, integer) :: integer\n",
    "  def add(x, y) do\n",
    "    x + y\n",
    "  end\n",
    "  \n",
    "  # Cromaを使った記法(型バリデーション付き)\n",
    "  defun add_integers(x :: v[integer], y :: v[integer]) :: v[integer] do\n",
    "    x + y\n",
    "  end\n",
    "  \n",
    "  # Cromaを使った記法(型スペックのみ)\n",
    "  defun add_integers_without_validation(x :: integer, y :: integer) :: integer do\n",
    "    x + y\n",
    "  end\n",
    "  \n",
    "  defun accept_hello_atom(value :: atom) :: Croma.Result.t(:hello, String.t) do\n",
    "    (:hello)     -> {:ok, :hello}\n",
    "    (other_atom) -> {:error, format_message(other_atom)}\n",
    "  end\n",
    "  \n",
    "  defunp format_message(value :: v[atom]) :: v[String.t] do\n",
    "    \"#{value} is not :hello atom\"\n",
    "  end\n",
    "end"
   ]
  },
  {
   "cell_type": "code",
   "execution_count": null,
   "id": "stuck-default",
   "metadata": {},
   "outputs": [],
   "source": [
    "CromaTestModule.add_integers(0, 1)"
   ]
  },
  {
   "cell_type": "code",
   "execution_count": null,
   "id": "current-fairy",
   "metadata": {},
   "outputs": [],
   "source": [
    "CromaTestModule.add_integers(0.0, 1)\n",
    "# => %RuntimeError{message: \"validation error: x is not a valid integer\"}"
   ]
  },
  {
   "cell_type": "code",
   "execution_count": null,
   "id": "liked-boards",
   "metadata": {},
   "outputs": [],
   "source": [
    "CromaTestModule.add_integers_without_validation(0.0, 1)"
   ]
  },
  {
   "cell_type": "code",
   "execution_count": null,
   "id": "following-clone",
   "metadata": {},
   "outputs": [],
   "source": [
    "CromaTestModule.accept_hello_atom(:hello)"
   ]
  },
  {
   "cell_type": "code",
   "execution_count": null,
   "id": "valuable-charles",
   "metadata": {},
   "outputs": [],
   "source": [
    "CromaTestModule.accept_hello_atom(:world)"
   ]
  },
  {
   "cell_type": "markdown",
   "id": "linear-agenda",
   "metadata": {},
   "source": [
    "### meck\n",
    "\n",
    "Erlangのモッキングライブラリ。\n",
    "\n",
    "モジュールの関数の振る舞いを動的に変えたり、引数のテストを行ったり、呼び出し回数を計測したりできる。\n",
    "\n",
    "テストコードでよく使用される。"
   ]
  },
  {
   "cell_type": "markdown",
   "id": "stylish-ordinary",
   "metadata": {},
   "source": [
    "例えば外部サービスに依存する関数・副作用のある関数のテストを行いたいとき、モックを使用したくなる。\n",
    "\n",
    "- 後の`HttpBin.send_request/3`を使用し、リクエスト先のサーバーがダウンしている状況のテストをしたい\n",
    "- 外部サービスがダウンしている時(HTTP status 500が返るとする)の処理が期待どおりか確かめたい\n",
    "  - しかし、外部サービスを実際にダウンさせることはできない\n",
    "- そもそもテストで、外部サービスにリクエストを送りたくない\n",
    "\n",
    "モックを使うと, 関数呼び出しを監視することができ、必要ならば同じインターフェースで異なる振る舞いをする別の関数に差し替えることができる。\n",
    "\n",
    "つまり、下の図のようにあるテストケースのときだけ`HttpBin.send_request/3`を常に`%{status: 500}`を返す別の関数に差し替えることができる。"
   ]
  },
  {
   "cell_type": "markdown",
   "id": "frequent-reflection",
   "metadata": {},
   "source": [
    "![モックのイメージ](./resources/7/image_of_mocking.png)"
   ]
  },
  {
   "cell_type": "code",
   "execution_count": null,
   "id": "formal-excellence",
   "metadata": {},
   "outputs": [],
   "source": [
    "defmodule HttpBin do\n",
    "  # HTTPリクエストを行うための事前準備\n",
    "  HTTPoison.start\n",
    "  \n",
    "  @endpoint \"https://httpbin.org\"\n",
    "  \n",
    "  def send_request(method, body_map, header_map) do\n",
    "    url = @endpoint <> \"/#{method}\"\n",
    "    case HTTPoison.post!(url, Jason.encode!(body_map), header_map) do\n",
    "      %HTTPoison.Response{body: res_body, status_code: 200} -> %{status: 200, body: Jason.decode!(res_body)}\n",
    "      %HTTPoison.Response{status_code: 500}                 -> %{status: 500}\n",
    "      end\n",
    "  end\n",
    "end"
   ]
  },
  {
   "cell_type": "code",
   "execution_count": null,
   "id": "statistical-glossary",
   "metadata": {},
   "outputs": [],
   "source": [
    "IO.inspect HttpBin.send_request(:post, %{foo: \"bar\"}, %{\"Content-Type\" => \"application/json\"})"
   ]
  },
  {
   "cell_type": "markdown",
   "id": "matched-washer",
   "metadata": {},
   "source": [
    "meckモジュールを使って`Http.send_request/3`が常に`%{status: 500}`を返すよう振る舞いを変える。"
   ]
  },
  {
   "cell_type": "code",
   "execution_count": null,
   "id": "drawn-dependence",
   "metadata": {},
   "outputs": [],
   "source": [
    "# Erlangのモジュール名は、atomで表す決まりになっている => :meck\n",
    "\n",
    "# モックするための事前準備\n",
    ":meck.new(HttpBin, [:passthrough])"
   ]
  },
  {
   "cell_type": "code",
   "execution_count": null,
   "id": "fallen-problem",
   "metadata": {},
   "outputs": [],
   "source": [
    "# HttpBin.send_request/3 を任意の関数に差し替える\n",
    ":meck.expect(\n",
    "  HttpBin,                                         # 対象モジュール\n",
    "  :send_request,                                   # 関数名のatom\n",
    "  fn _method, _body, _header -> %{status: 500} end # 関数と同じarityを持つ無名関数\n",
    ")"
   ]
  },
  {
   "cell_type": "code",
   "execution_count": null,
   "id": "independent-white",
   "metadata": {},
   "outputs": [],
   "source": [
    "HttpBin.send_request(:post, %{foo: \"bar\"}, %{\"Content-Type\" => \"application/json\"})"
   ]
  },
  {
   "cell_type": "markdown",
   "id": "adjusted-filing",
   "metadata": {},
   "source": [
    "`Http.send_request/3`の振る舞いが無名関数`fn _method, _body, _header -> %{status: 500} end`に差し替わったようだ!\n",
    "\n",
    "本当にそうなのか、さらに確かめてみよう。"
   ]
  },
  {
   "cell_type": "code",
   "execution_count": null,
   "id": "relevant-shooting",
   "metadata": {},
   "outputs": [],
   "source": [
    ":meck.expect(HttpBin, :send_request, fn method, _body, _header ->\n",
    "  IO.puts \"Mocked function is called 😁\"\n",
    "  IO.puts \"Tried to request by #{method} method\"\n",
    "  %{status: 500}\n",
    "end)"
   ]
  },
  {
   "cell_type": "code",
   "execution_count": null,
   "id": "textile-depression",
   "metadata": {},
   "outputs": [],
   "source": [
    "HttpBin.send_request(:post, %{foo: \"bar\"}, %{\"Content-Type\" => \"application/json\"})"
   ]
  },
  {
   "cell_type": "markdown",
   "id": "administrative-drunk",
   "metadata": {},
   "source": [
    "😁"
   ]
  },
  {
   "cell_type": "markdown",
   "id": "interracial-citizenship",
   "metadata": {},
   "source": [
    "モックは他の副作用、例えば日時や乱数が関わるようなテストを実施する際にもよく使われる。"
   ]
  },
  {
   "cell_type": "code",
   "execution_count": null,
   "id": "favorite-inside",
   "metadata": {},
   "outputs": [],
   "source": [
    "# モックしたモジュールを削除\n",
    ":meck.unload(HttpBin)"
   ]
  },
  {
   "cell_type": "code",
   "execution_count": null,
   "id": "piano-contribution",
   "metadata": {},
   "outputs": [],
   "source": []
  }
 ],
 "metadata": {
  "kernelspec": {
   "display_name": "Elixir",
   "language": "Elixir",
   "name": "ielixir"
  },
  "language_info": {
   "codemirror_mode": "elixir",
   "file_extension": "ex",
   "mimetype": "text/x-elixir",
   "name": "elixir",
   "nbconvert_exporter": "",
   "pygments_lexer": "elixir",
   "version": "1.11.2"
  }
 },
 "nbformat": 4,
 "nbformat_minor": 5
}
